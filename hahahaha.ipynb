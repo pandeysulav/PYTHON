{
 "cells": [
  {
   "cell_type": "code",
   "execution_count": 2,
   "id": "8709d19c",
   "metadata": {},
   "outputs": [
    {
     "name": "stdout",
     "output_type": "stream",
     "text": [
      "who is the goat of all time\n"
     ]
    }
   ],
   "source": [
    "print(\"who is the goat of all time\")"
   ]
  },
  {
   "cell_type": "code",
   "execution_count": 3,
   "id": "c126aff9",
   "metadata": {},
   "outputs": [
    {
     "name": "stdout",
     "output_type": "stream",
     "text": [
      "the greatest of all time is a subjective title, often debated in sports and entertainment. Some popular choices include:\n",
      "1. Michael Jordan in basketball\n",
      "2. Tom Brady in American football\n",
      "3. Serena Williams in tennis\n",
      "4. Muhammad Ali in boxing\n",
      "5. Pelé in soccer\n",
      "6. LeBron James in basketball\n",
      "7. Michael Phelps in swimming\n",
      "8. Usain Bolt in athletics\n"
     ]
    }
   ],
   "source": [
    "print(\"the greatest of all time is a subjective title, often debated in sports and entertainment. Some popular choices include:\")\n",
    "print(\"1. Michael Jordan in basketball\")            \n",
    "print(\"2. Tom Brady in American football\")\n",
    "print(\"3. Serena Williams in tennis\")\n",
    "print(\"4. Muhammad Ali in boxing\")\n",
    "print(\"5. Pelé in soccer\")\n",
    "print(\"6. LeBron James in basketball\")\n",
    "print(\"7. Michael Phelps in swimming\")\n",
    "print(\"8. Usain Bolt in athletics\")"
   ]
  },
  {
   "cell_type": "code",
   "execution_count": null,
   "id": "c65052e1",
   "metadata": {},
   "outputs": [],
   "source": [
    "\n",
    "\n"
   ]
  },
  {
   "cell_type": "code",
   "execution_count": null,
   "id": "fb305c55",
   "metadata": {},
   "outputs": [],
   "source": []
  },
  {
   "cell_type": "code",
   "execution_count": null,
   "id": "25b989c0",
   "metadata": {},
   "outputs": [],
   "source": []
  }
 ],
 "metadata": {
  "kernelspec": {
   "display_name": "Python 3",
   "language": "python",
   "name": "python3"
  },
  "language_info": {
   "codemirror_mode": {
    "name": "ipython",
    "version": 3
   },
   "file_extension": ".py",
   "mimetype": "text/x-python",
   "name": "python",
   "nbconvert_exporter": "python",
   "pygments_lexer": "ipython3",
   "version": "3.13.3"
  }
 },
 "nbformat": 4,
 "nbformat_minor": 5
}
